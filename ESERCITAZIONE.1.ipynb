{
 "cells": [
  {
   "cell_type": "markdown",
   "id": "272507ce",
   "metadata": {},
   "source": [
    "### ESERCITAZIONE 1: Introduzione a py"
   ]
  },
  {
   "cell_type": "code",
   "execution_count": null,
   "id": "c5006349",
   "metadata": {},
   "outputs": [],
   "source": [
    "2+3"
   ]
  },
  {
   "cell_type": "code",
   "execution_count": null,
   "id": "03ad4c54",
   "metadata": {},
   "outputs": [],
   "source": [
    "9-6"
   ]
  },
  {
   "cell_type": "code",
   "execution_count": null,
   "id": "519e8956",
   "metadata": {},
   "outputs": [],
   "source": [
    "4*3"
   ]
  },
  {
   "cell_type": "code",
   "execution_count": null,
   "id": "87282249",
   "metadata": {},
   "outputs": [],
   "source": [
    "5/2"
   ]
  },
  {
   "cell_type": "code",
   "execution_count": null,
   "id": "a3b2efaa",
   "metadata": {},
   "outputs": [],
   "source": [
    "print (\"Scemo chi legge\")"
   ]
  },
  {
   "cell_type": "markdown",
   "id": "18379110",
   "metadata": {},
   "source": [
    "#### Esercitazione"
   ]
  },
  {
   "cell_type": "code",
   "execution_count": null,
   "id": "b7573bbf",
   "metadata": {},
   "outputs": [],
   "source": [
    "print (\"ciao mondo!\")"
   ]
  },
  {
   "cell_type": "markdown",
   "id": "7f0fd490",
   "metadata": {},
   "source": [
    "##### Creiamo una cella da riempire con un dato :D"
   ]
  },
  {
   "cell_type": "code",
   "execution_count": null,
   "id": "fe86ee9f",
   "metadata": {
    "scrolled": true
   },
   "outputs": [],
   "source": [
    "nome = input (\"inserisci nome \")\n",
    "print (\"Ciao,\", nome, \"!\")"
   ]
  },
  {
   "cell_type": "markdown",
   "id": "8a1bb0bc",
   "metadata": {},
   "source": [
    "##### Facciamo la stessa cosa ma ripetuta 5 volte come se stessi parlando con un ragazzo speciale"
   ]
  },
  {
   "cell_type": "code",
   "execution_count": null,
   "id": "45bf94f3",
   "metadata": {},
   "outputs": [],
   "source": [
    "nome = input (\"CoMe Ti ChIamI?!??!\")\n",
    "for i in range(5):\n",
    "    print(\"CiAo,\", nome,\"!\")"
   ]
  },
  {
   "cell_type": "markdown",
   "id": "013da9ae",
   "metadata": {},
   "source": [
    "##### Mo diamoci alla matematica (facciamo una calcolatrice)"
   ]
  },
  {
   "cell_type": "code",
   "execution_count": null,
   "id": "55d0a179",
   "metadata": {},
   "outputs": [],
   "source": [
    "numero1 = int(input(\"inserisci un numero: \"))\n",
    "numero2 = int(input(\"inserisci un numero: \"))\n",
    "somma = numero1 + numero2\n",
    "print(\"La somma è:\", somma)"
   ]
  },
  {
   "cell_type": "markdown",
   "id": "5ae30a37",
   "metadata": {},
   "source": [
    "Nice"
   ]
  },
  {
   "cell_type": "markdown",
   "id": "b51c2756",
   "metadata": {},
   "source": [
    "##### Proviamo qualcosa di più divertente (e verosimile)"
   ]
  },
  {
   "cell_type": "code",
   "execution_count": null,
   "id": "f30f74a7",
   "metadata": {},
   "outputs": [],
   "source": [
    "numero1 = int(input(\"inserisci il numero di persone che ti hanno rotto il cazzo oggi: \"))\n",
    "numero2 = int(input(\"inserisci il numero di persone che ti hanno rotto il cazzo ieri: \"))\n",
    "somma = numero1 + numero2\n",
    "print(\"Quindi ho mandato dei sicari per uccidere\", somma,\"persone\")"
   ]
  },
  {
   "cell_type": "markdown",
   "id": "9d134235",
   "metadata": {},
   "source": [
    "##### Print numero da 1 a 10"
   ]
  },
  {
   "cell_type": "code",
   "execution_count": null,
   "id": "85c32abb",
   "metadata": {},
   "outputs": [],
   "source": [
    "for numero in range (1,11):\n",
    "    print(numero)"
   ]
  },
  {
   "cell_type": "markdown",
   "id": "669021b3",
   "metadata": {},
   "source": [
    "##### Sole"
   ]
  },
  {
   "cell_type": "code",
   "execution_count": null,
   "id": "ee9795e9",
   "metadata": {},
   "outputs": [],
   "source": [
    "nome = input (\"Ehi come ti chiami?\")\n",
    "print(\"ok,\", nome, \"va bhe me ne frega un cazzo comunque tua madre pesa più del sole\")"
   ]
  },
  {
   "cell_type": "markdown",
   "id": "2b55cdfe",
   "metadata": {},
   "source": [
    "##### Luna"
   ]
  },
  {
   "cell_type": "code",
   "execution_count": null,
   "id": "dd4ebad6",
   "metadata": {},
   "outputs": [],
   "source": [
    "for numero in range (1,101): print (numero)"
   ]
  },
  {
   "cell_type": "markdown",
   "id": "d628c236",
   "metadata": {},
   "source": [
    "###### ALTRO"
   ]
  },
  {
   "cell_type": "code",
   "execution_count": null,
   "id": "0352fad3",
   "metadata": {},
   "outputs": [],
   "source": [
    "operazione=input(\"inserisci un simbolo di un'operazione (+,-,*,/): \")\n",
    "\n",
    "numero1 =float(input(\"inserisci un numero \"))\n",
    "numero2 =float(input(\"inserisci un altro numero \"))\n",
    "\n",
    "if operazione == \"+\":\n",
    "    risultato = numero1 + numero2\n",
    "    \n",
    "elif operazione == \"-\":\n",
    "        risultato = numero1 - numero2\n",
    "        \n",
    "elif operazione == \"*\":\n",
    "        risultato = numero1 * numero2\n",
    "        \n",
    "elif operazione == \"/\":\n",
    "        risultato = numero1 / numero2\n",
    "\n",
    "else:\n",
    "    rusultato = (\"operazione non valida\")\n",
    "    \n",
    "print (\"Il risultato è:\", risultato)"
   ]
  },
  {
   "cell_type": "markdown",
   "id": "44d1ee61",
   "metadata": {},
   "source": [
    "a"
   ]
  },
  {
   "cell_type": "code",
   "execution_count": null,
   "id": "a8d9d462",
   "metadata": {},
   "outputs": [],
   "source": [
    "n =int(input(\"inserisci un numero intero positivo \"))\n",
    "somma=0\n",
    "\n",
    "\n",
    "for numero in range(1,n+1):\n",
    "    somma += numero\n",
    "\n",
    "print(\"La somma dei primi\", n, \"numeri interi è:\", somma)\n"
   ]
  },
  {
   "cell_type": "markdown",
   "id": "fce21167",
   "metadata": {},
   "source": [
    "b"
   ]
  },
  {
   "cell_type": "code",
   "execution_count": 2,
   "id": "af512250",
   "metadata": {},
   "outputs": [
    {
     "name": "stdout",
     "output_type": "stream",
     "text": [
      "inserisci un numero intero positivo: 7\n",
      "quadrati dei primi 7 numeri:\n",
      "il quadrati dei: 7 è: 49\n"
     ]
    }
   ],
   "source": [
    "n = int(input(\"inserisci un numero intero positivo: \"))\n",
    "\n",
    "print(\"quadrati dei primi\", n, \"numeri:\")\n",
    "\n",
    "for numero in range (1, n+1):\n",
    "    quadrato = numero ** 2\n",
    "print(\"il quadrati dei:\", numero, \"è:\", quadrato)"
   ]
  },
  {
   "cell_type": "markdown",
   "id": "1faa80a5",
   "metadata": {},
   "source": [
    "c"
   ]
  },
  {
   "cell_type": "code",
   "execution_count": null,
   "id": "1dd93aae",
   "metadata": {},
   "outputs": [],
   "source": [
    "numero = int(input(\"Inserisci un numero:\"))\n",
    "\n",
    "if numero % 2 == 0:\n",
    "    print (numero, \"è un numero pari.\")\n",
    "    \n",
    "else:\n",
    "    print(numero, \"è un numero dispari.\")"
   ]
  },
  {
   "cell_type": "markdown",
   "id": "563edfd9",
   "metadata": {},
   "source": [
    "##### Calcoliamo proteine"
   ]
  },
  {
   "cell_type": "code",
   "execution_count": null,
   "id": "577430dc",
   "metadata": {},
   "outputs": [],
   "source": [
    "cane=int(input(\"quanti kg pesa il tuo cane? \"))\n",
    "\n",
    "if cane<=40:\n",
    "    print(\"il tuo cane pesa solo\", cane,\"kg splah può mangiarlo in un solo pasto\")\n",
    "elif 40<cane<=60:\n",
    "    print(\"il tuo cane pesa:\", cane, \"kg splash può mangiarlo in due pasti\")\n",
    "else:\n",
    "    print(\"il tuo cane è molto pesante:\", cane, \"sarà una battaglia leggendaria (vincerà Splash)\")"
   ]
  },
  {
   "cell_type": "code",
   "execution_count": null,
   "id": "ecc2b077",
   "metadata": {},
   "outputs": [],
   "source": []
  },
  {
   "cell_type": "markdown",
   "id": "4006d174",
   "metadata": {},
   "source": [
    "##### gatto"
   ]
  },
  {
   "cell_type": "code",
   "execution_count": null,
   "id": "228ca6c7",
   "metadata": {},
   "outputs": [],
   "source": [
    "gatto=str(input(\"come sta il tuo gatto? \"))\n",
    "\n",
    "if gatto==\"bene\":\n",
    "    print(\"ne godo\")\n",
    "elif gatto==\"male\":\n",
    "    print(\"male devi curare meglio il tuo gatto se non lo fai prenderò provvedimenti (rapirti il gatto)\")\n",
    "elif gatto!=\"bene\"\"male\":\n",
    "    print(\"bastardo suka blyad nakhuy BENE O MALE\")\n",
    "\n",
    "carezza=str(input(\"posso accarezzarlo? \"))\n",
    "if carezza==\"no\":\n",
    "    print(\"sei più inutile delle citure per i maranza\")\n",
    "elif carezza==\"si\":\n",
    "    print(\"ok grazie\")\n",
    "elif carezza!=\"no\"\"si\":\n",
    "    print(\"rincoglionito bastardo, o non sai scrivere o hai scritto parole sbagliate, QUESTA E' UNA DOMANDA: SI O NO\")"
   ]
  },
  {
   "cell_type": "markdown",
   "id": "5a0ae4fd",
   "metadata": {},
   "source": [
    " "
   ]
  },
  {
   "cell_type": "markdown",
   "id": "935c13b2",
   "metadata": {},
   "source": [
    "#### Fattoriale"
   ]
  },
  {
   "cell_type": "code",
   "execution_count": 21,
   "id": "00033fc5",
   "metadata": {},
   "outputs": [
    {
     "name": "stdout",
     "output_type": "stream",
     "text": [
      "inserisci un numero:1558\n",
      "il fattoriale di 1558  è: 2424858401169875856987549316530261243529336396354700842715749979460646110058233651782392648030625575890603295838549136086203631494904372698578181999057212055535785846413969420066573092861481554378165635499319577948946469878800693106187103360224139995239288292467274991657581799887960732860730465294056429604010675825650845592134295845654185424392132561718318353026455262912039002664120813132000602020151818744862796534620281615341820385425346251471878908201301227337883132211649086124629581129201309548248991126780745470297556208250525153383428851713805456555419758707284753260768805845944423382917543868035509410367649517977378961396490420583560768554085728596839435423979501005167390976056828737759722931049053051870481354220566751757226315251920734049093559363656820097662644345104685665152444697669009659982518091310671058073959926600845011866653850725006741331610135998770449096045426206531544154144601729043078225608136613193686346346764203375001081246967670378990121777385901921245133042374777487279240176076181929206652760242551593468206588418766183401939736514661022447416367789422605988204789848476655904174023752533626768590363300938231129606313365312387913130971900390208938471907315110717317435321123464794906710193916413838207147074458529525935478113361841325520841044346267628381902449941524896332350384902526765982148700924154884023605222691782597459599121027544229955922681404443327840648118042191399221650956164672857148227101451532445295161873221075926687151309815858723796054292521542311108190618276056103071140889723197707702368244847779594197140241112042128900654662720100758519336991189420021569389659862373674109453168227154296233208845394442627758282640964050502230911632608683569869755423400072413157317525410032842653580093887735517690412593258359388487289802270353135756659547954667344672901471048389223259683469006995762263469036620522300662493285722212048473141061111827211648276284983691538501299996459350066613212712170474963890532178735800245974574640904674554123815017979113627519922145830691096868313633320304359164703825903963661604335411773033078697699311892617463175229334854531701631075383899708905233041291527887059381689504636267968336033244928031019352467588242769652345533099117594059102256248189810284600657855707971881794779733938869280438373216606816889288287015049782284899585369920877745590840887712363661997881545433844629800189205229597440143179700162824702134957418586285920953284900382720017357876988767296282790084172114532622647998154080918863914038958583660595208167281479883677535909771428614756103440615905873310606657147769597200148222567970379939256596381142850272187439045199365546037482887333248526026065549397730475314476322168067523034600032867511743419691437003992038152628324659432676263448764134014429405489180634364519282138519962363193701386950109467042340571843977537752976341094127822030600936793871334872293490903117072170466054983434825167266916722980296391441044563178977701723309785609111259614474247364528550386532388327264689711775604664427340228901835597557029992960492192464058200400988909295153551200837397817601282679220611104173652358509007521101053095620748168997861050130023817703319787079095235833374426177514286578246903083415169109359323812741314724620593271262917265094024216337214863533448529254632599541703878619604512594846124252613960262726215219134672211844311020666195270036284140614857902974771290503656870984782590335117218368984797972576852801418834170795097602013208317371156612874344638041764532057542786831351076365498540443813006372421380736034740771076764178132559828434447544678633583005046265334346831012385703067191550416222980088761154519553974935287498676582754658553261232252765802371799256016444945115393409561160793126126735836975302341046431089640850574341354122545220831810806852068691732327187184240511538962440151159519314143893886850233861037997459199145386272154940965985357257552760909210073432064000000000000000000000000000000000000000000000000000000000000000000000000000000000000000000000000000000000000000000000000000000000000000000000000000000000000000000000000000000000000000000000000000000000000000000000000000000000000000000000000000000000000000000000000000000000000000000000000000000000000000000000000000000000000000000000000000000000000000000000000000000000000000000000000000\n"
     ]
    }
   ],
   "source": [
    "n = int(input(\"inserisci un numero:\"))\n",
    "fattoriale = 1\n",
    "\n",
    "for numero in range(1, n+1):\n",
    "    fattoriale *= numero\n",
    "print(\"il fattoriale di\", n,\" è:\", fattoriale)\n"
   ]
  },
  {
   "cell_type": "markdown",
   "id": "de706c30",
   "metadata": {},
   "source": [
    "Lista"
   ]
  },
  {
   "cell_type": "code",
   "execution_count": 19,
   "id": "2236cc09",
   "metadata": {},
   "outputs": [
    {
     "name": "stdout",
     "output_type": "stream",
     "text": [
      "Quanti numeri vuoi inserire? 4\n",
      "inserisci un numero:2\n",
      "inserisci un numero:4\n",
      "inserisci un numero:2\n",
      "inserisci un numero:4\n",
      "media è: 3.0 la lista completa è: [2.0, 4.0, 2.0, 4.0]\n"
     ]
    }
   ],
   "source": [
    "L = []\n",
    "\n",
    "n = int(input(\"Quanti numeri vuoi inserire? \"))\n",
    "\n",
    "for i in range(n):\n",
    "    numero = float(input(\"inserisci un numero:\"))\n",
    "    L.append(numero)\n",
    "\n",
    "media = sum(L) / len(L)\n",
    "\n",
    "print(\"media è:\", media,\"la lista completa è:\", L)"
   ]
  },
  {
   "cell_type": "markdown",
   "id": "763f6a3b",
   "metadata": {},
   "source": [
    " "
   ]
  },
  {
   "cell_type": "code",
   "execution_count": 8,
   "id": "c5973ec8",
   "metadata": {},
   "outputs": [
    {
     "name": "stdout",
     "output_type": "stream",
     "text": [
      "indovina il numero (1-100): 34\n",
      "il numero da indovinare è più grande.\n",
      "indovina il numero (1-100): 67\n",
      "il numero da indovinare è più grande.\n",
      "indovina il numero (1-100): 89\n",
      "il numero da indovinare è più grande.\n",
      "indovina il numero (1-100): 94\n",
      "il numero da indovinare è più piccolo.\n",
      "indovina il numero (1-100): 92\n",
      "il numero da indovinare è più piccolo.\n",
      "indovina il numero (1-100): 91\n",
      "il numero da indovinare è più piccolo.\n",
      "indovina il numero (1-100): 90\n",
      "Bravo! Hai indovinato il numero 90 in 7 tentativi.\n"
     ]
    }
   ],
   "source": [
    "import random\n",
    "\n",
    "numero_da_indovinare=random.randint(1, 100)\n",
    "tentativi=0\n",
    "\n",
    "while True:\n",
    "    tentativo=int(input(\"indovina il numero (1-100): \"))\n",
    "    tentativi+=1\n",
    "\n",
    "    if tentativo==numero_da_indovinare:\n",
    "        print(\"Bravo! Hai indovinato il numero\", numero_da_indovinare, \"in\", tentativi, \"tentativi.\")\n",
    "        break\n",
    "    elif tentativo<numero_da_indovinare:\n",
    "        print(\"il numero da indovinare è più grande.\")\n",
    "    else:\n",
    "        print(\"il numero da indovinare è più piccolo.\")"
   ]
  },
  {
   "cell_type": "markdown",
   "id": "ce8c14ef",
   "metadata": {},
   "source": [
    "##### ROULETTE RUSSA"
   ]
  },
  {
   "cell_type": "code",
   "execution_count": null,
   "id": "4edfeb6a",
   "metadata": {},
   "outputs": [],
   "source": [
    "import random\n",
    "P=random.randint(1, 6)\n",
    "\n",
    "scelta_del_giocatore=input(\"scegli un numero da 1 a 6: \")\n",
    "while scelta_del_giocatore!=\"1\" and scelta_del_giocatore!=\"2\" and scelta_del_giocatore!=\"3\"and scelta_del_giocatore!=\"4\"and scelta_del_giocatore!=\"5\"and scelta_del_giocatore!=\"6\":\n",
    "    print(\"ho detto un numero da 1 a 6\")\n",
    "    scelta_del_giocatore=input(\"scegli un numero da 1 a 6: \")\n",
    "\n",
    "punteggio=0\n",
    "while True:\n",
    "    scelta_del_giocatore=int(input(\"metti un numero da 1 a 6: \"))\n",
    "    punteggio+=1\n",
    "\n",
    "    if P==scelta_del_giocatore:\n",
    "        print(\"Bang! mission failed\")\n",
    "        break\n",
    "    else:\n",
    "        print(\"click, non succede niente\")\n",
    "\n",
    "print(\"hai fatto un punteggio di \", punteggio)"
   ]
  },
  {
   "cell_type": "markdown",
   "id": "87fcb753",
   "metadata": {},
   "source": [
    "### "
   ]
  },
  {
   "cell_type": "markdown",
   "id": "9f752cc7",
   "metadata": {},
   "source": [
    " #### Morra Cinese"
   ]
  },
  {
   "cell_type": "code",
   "execution_count": 7,
   "id": "62ebf0d9",
   "metadata": {},
   "outputs": [
    {
     "name": "stdout",
     "output_type": "stream",
     "text": [
      "carta forbice sasso! carta\n",
      "io ho scelto carta\n",
      "Pareggio... ti odio\n"
     ]
    }
   ],
   "source": [
    "import random\n",
    "c_f_s=[\"carta\", \"forbice\", \"sasso\"]\n",
    "scelta_computer=random.choice(c_f_s)\n",
    "\n",
    "scelta_del_giocatore=input(\"carta forbice sasso! \")\n",
    "while scelta_del_giocatore!=\"carta\" and scelta_del_giocatore!=\"forbice\" and scelta_del_giocatore!=\"sasso\":\n",
    "    print(\"stiamo giocando a carta forbice sasso non a\", scelta_del_giocatore, \"melone Giuseppe\")\n",
    "    scelta_del_giocatore=input(\"carta forbice sasso! \")\n",
    "\n",
    "print(\"io ho scelto\", scelta_computer)\n",
    "\n",
    "if scelta_computer==\"carta\" and scelta_del_giocatore==\"forbice\":\n",
    "    print(\"hai vinto questa volta ma non vincerai di nuovo\")\n",
    "elif scelta_computer==\"forbice\" and scelta_del_giocatore==\"carta\":\n",
    "    print(\"ha ha, suka hai perso\")\n",
    "elif scelta_computer==\"forbice\" and scelta_del_giocatore==\"sasso\":\n",
    "    print(\"hai vinto questa volta ma non vincerai di nuovo\")\n",
    "elif scelta_computer==\"sasso\" and scelta_del_giocatore==\"forbice\":\n",
    "    print(\"ha ha, suka hai perso\")\n",
    "elif scelta_computer==\"sasso\" and scelta_del_giocatore==\"carta\":\n",
    "    print(\"hai vinto questa volta ma non vincerai di nuovo\")\n",
    "elif scelta_computer==\"carta\" and scelta_del_giocatore==\"sasso\":\n",
    "    print(\"ha ha, suka hai perso\")\n",
    "else:\n",
    "    print(\"Pareggio... ti odio\")"
   ]
  },
  {
   "cell_type": "markdown",
   "id": "308fe067",
   "metadata": {},
   "source": [
    " "
   ]
  },
  {
   "cell_type": "markdown",
   "id": "b12442af",
   "metadata": {},
   "source": [
    "#### Fattoriale"
   ]
  },
  {
   "cell_type": "code",
   "execution_count": 20,
   "id": "49ba902a",
   "metadata": {},
   "outputs": [
    {
     "name": "stdout",
     "output_type": "stream",
     "text": [
      "inserisci numero:4\n",
      "il numero fattoriale di 4 è 24\n"
     ]
    }
   ],
   "source": [
    "n=int(input(\"inserisci numero:\"))\n",
    "\n",
    "fattoriale=1\n",
    "\n",
    "if n<0:\n",
    "    print(\"aspetta... solo numeri positivi\")\n",
    "    \n",
    "elif n==0:\n",
    "    print(\"cojone deve essere un numero intero\")\n",
    "    \n",
    "else:\n",
    "    for numero in range(1,1+n):\n",
    "        fattoriale*=numero\n",
    "\n",
    "print(f\"il numero fattoriale di {n} è {fattoriale}\")"
   ]
  },
  {
   "cell_type": "markdown",
   "id": "51612505",
   "metadata": {},
   "source": [
    " "
   ]
  },
  {
   "cell_type": "markdown",
   "id": "9cbc1563",
   "metadata": {},
   "source": [
    "#### UGA ROULETTE DA SOLO"
   ]
  },
  {
   "cell_type": "code",
   "execution_count": null,
   "id": "351e2b44",
   "metadata": {},
   "outputs": [],
   "source": [
    "import random\n",
    "P=random.randint(1, 8)\n",
    "\n",
    "scelta_del_giocatore=int(input(\"scegli un numero da 1 a 8: \"))\n",
    " \n",
    "while True:\n",
    "    if scelta_del_giocatore<1 or scelta_del_giocatore>8:\n",
    "        print(\"scelta errata\")\n",
    "        break\n",
    "    elif scelta_del_giocatore==P:\n",
    "        print(\"Bang! sei morto\")\n",
    "        break\n",
    "    else:\n",
    "        print(\"sei vivo\")\n",
    "        print(\"il proiettile era nel\",P,\"slot\")\n",
    "        continuare=input(\"per continuare a giocare premi 1: \")\n",
    "        if continuare==\"1\":\n",
    "            P=random.randint(1, 8)\n",
    "            scelta_del_giocatore=int(input(\"scegli un numero da 1 a 8: \"))\n",
    "            if scelta_del_giocatore<1 or scelta_del_giocatore>8:\n",
    "                print(\"scelta errata\")\n",
    "                break\n",
    "        else:\n",
    "            break"
   ]
  },
  {
   "cell_type": "markdown",
   "id": "ffc85615",
   "metadata": {},
   "source": [
    "#### UGA ROULETTE PVE"
   ]
  },
  {
   "cell_type": "code",
   "execution_count": 23,
   "id": "6c312b22",
   "metadata": {},
   "outputs": [
    {
     "name": "stdout",
     "output_type": "stream",
     "text": [
      "scegli un numero da 1 a 8: 2\n",
      "il computer ha scelto 5\n",
      "il proiettile era nel 6 slot\n",
      "siete sopravvisuti entrambi\n",
      "per continuare a giocare premi 1: 1\n",
      "scegli un numero da 1 a 8: 4\n",
      "il computer ha scelto 8\n",
      "il proiettile è nel 8 slot\n",
      "hai vinto\n"
     ]
    }
   ],
   "source": [
    "import random\n",
    "P=random.randint(1, 8)\n",
    "\n",
    "scelta_del_giocatore=int(input(\"scegli un numero da 1 a 8: \"))\n",
    "scelta_del_computer=random.randint(1, 8)\n",
    "while True:\n",
    "    if scelta_del_giocatore<1 or scelta_del_giocatore >8:\n",
    "        print(\"scelta errata\")\n",
    "        break\n",
    "    elif scelta_del_computer==scelta_del_giocatore:\n",
    "        scelta_del_computer=random.randint(1,8)\n",
    "    elif scelta_del_giocatore==P:\n",
    "        print(\"Bang! sei morto\")\n",
    "        break\n",
    "    elif scelta_del_computer==P:\n",
    "        print(\"il computer ha scelto\",scelta_del_computer)\n",
    "        print(\"il proiettile è nel\",P,\"slot\")\n",
    "        print(\"hai vinto\")\n",
    "        break\n",
    "    else:\n",
    "        print(\"il computer ha scelto\",scelta_del_computer)\n",
    "        print(\"il proiettile era nel\",P,\"slot\")\n",
    "        print(\"siete sopravvisuti entrambi\")\n",
    "        continuare=input(\"per continuare a giocare premi 1: \")\n",
    "        if continuare==\"1\":\n",
    "            P=random.randint(1, 8)\n",
    "            scelta_del_giocatore=int(input(\"scegli un numero da 1 a 8: \"))\n",
    "            scelta_del_computer=P=random.randint(1, 8)\n",
    "            if scelta_del_giocatore<1 or scelta_del_giocatore>8:\n",
    "                print(\"scelta errata\")\n",
    "                break\n",
    "        else:\n",
    "            break"
   ]
  },
  {
   "cell_type": "markdown",
   "id": "c174dd35",
   "metadata": {},
   "source": [
    " "
   ]
  },
  {
   "cell_type": "code",
   "execution_count": 2,
   "id": "d9acc44f",
   "metadata": {},
   "outputs": [
    {
     "name": "stdout",
     "output_type": "stream",
     "text": [
      "inserisci una farse uga è a casa\n",
      "nella frase ci sono 6 vocali.\n"
     ]
    }
   ],
   "source": [
    "frase = input(\"inserisci una farse \").lower()\n",
    "\n",
    "CV = 0\n",
    "\n",
    "V = \"aeiouèéòàù\"\n",
    "\n",
    "for carattere in frase:\n",
    "    if carattere in V:\n",
    "        CV += 1\n",
    "        \n",
    "#la f prima delle \"\" serve per rendere la \"\" piu flessibile e inserire variabili come CV\n",
    "print(f\"nella frase ci sono {CV} vocali.\")"
   ]
  },
  {
   "cell_type": "markdown",
   "id": "1d7e32a6",
   "metadata": {},
   "source": [
    "..."
   ]
  },
  {
   "cell_type": "markdown",
   "id": "b70ea23a",
   "metadata": {},
   "source": [
    "DOPO DUE SETTIMANE DI ATTESA..."
   ]
  },
  {
   "cell_type": "code",
   "execution_count": 6,
   "id": "399c947f",
   "metadata": {},
   "outputs": [
    {
     "name": "stdout",
     "output_type": "stream",
     "text": [
      "metti un numero da 1 a 6 3\n",
      "HAI PERSO XD\n"
     ]
    }
   ],
   "source": [
    "import random\n",
    "\n",
    "numero_dado = random.randint(1,6)\n",
    "\n",
    "indovina = int(input(\"metti un numero da 1 a 6 \"))\n",
    "if indovina<1 or indovina >6:\n",
    "    print(\"cojone metti un numero da 1 a 6 \")\n",
    "elif indovina == numero_dado:\n",
    "    print(\"HAI VINTO!\")\n",
    "        \n",
    "else:\n",
    "    print(\"HAI PERSO XD\")\n"
   ]
  },
  {
   "cell_type": "code",
   "execution_count": 11,
   "id": "3bc78cf6",
   "metadata": {},
   "outputs": [
    {
     "name": "stdout",
     "output_type": "stream",
     "text": [
      "inserisce una popolazione iniziale: 2\n",
      "inserisci numero di anni di simulazione 100\n",
      "inserisci tasso natalità 15\n",
      "inserisci tasso di mortalità 1\n",
      "Anno1: Popolazione = 2\n",
      "Anno2: Popolazione = 2\n",
      "Anno3: Popolazione = 2\n",
      "Anno4: Popolazione = 3\n",
      "Anno5: Popolazione = 3\n",
      "Anno6: Popolazione = 4\n",
      "Anno7: Popolazione = 5\n",
      "Anno8: Popolazione = 5\n",
      "Anno9: Popolazione = 6\n",
      "Anno10: Popolazione = 7\n",
      "Anno11: Popolazione = 8\n",
      "Anno12: Popolazione = 9\n",
      "Anno13: Popolazione = 10\n",
      "Anno14: Popolazione = 12\n",
      "Anno15: Popolazione = 14\n",
      "Anno16: Popolazione = 16\n",
      "Anno17: Popolazione = 18\n",
      "Anno18: Popolazione = 21\n",
      "Anno19: Popolazione = 24\n",
      "Anno20: Popolazione = 27\n",
      "Anno21: Popolazione = 31\n",
      "Anno22: Popolazione = 35\n",
      "Anno23: Popolazione = 40\n",
      "Anno24: Popolazione = 46\n",
      "Anno25: Popolazione = 52\n",
      "Anno26: Popolazione = 60\n",
      "Anno27: Popolazione = 68\n",
      "Anno28: Popolazione = 78\n",
      "Anno29: Popolazione = 89\n",
      "Anno30: Popolazione = 101\n",
      "Anno31: Popolazione = 116\n",
      "Anno32: Popolazione = 132\n",
      "Anno33: Popolazione = 150\n",
      "Anno34: Popolazione = 172\n",
      "Anno35: Popolazione = 196\n",
      "Anno36: Popolazione = 223\n",
      "Anno37: Popolazione = 254\n",
      "Anno38: Popolazione = 290\n",
      "Anno39: Popolazione = 331\n",
      "Anno40: Popolazione = 377\n",
      "Anno41: Popolazione = 430\n",
      "Anno42: Popolazione = 490\n",
      "Anno43: Popolazione = 559\n",
      "Anno44: Popolazione = 638\n",
      "Anno45: Popolazione = 727\n",
      "Anno46: Popolazione = 829\n",
      "Anno47: Popolazione = 945\n",
      "Anno48: Popolazione = 1077\n",
      "Anno49: Popolazione = 1228\n",
      "Anno50: Popolazione = 1400\n",
      "Anno51: Popolazione = 1596\n",
      "Anno52: Popolazione = 1820\n",
      "Anno53: Popolazione = 2074\n",
      "Anno54: Popolazione = 2365\n",
      "Anno55: Popolazione = 2696\n",
      "Anno56: Popolazione = 3073\n",
      "Anno57: Popolazione = 3504\n",
      "Anno58: Popolazione = 3994\n",
      "Anno59: Popolazione = 4554\n",
      "Anno60: Popolazione = 5191\n",
      "Anno61: Popolazione = 5918\n",
      "Anno62: Popolazione = 6747\n",
      "Anno63: Popolazione = 7691\n",
      "Anno64: Popolazione = 8768\n",
      "Anno65: Popolazione = 9996\n",
      "Anno66: Popolazione = 11395\n",
      "Anno67: Popolazione = 12991\n",
      "Anno68: Popolazione = 14810\n",
      "Anno69: Popolazione = 16883\n",
      "Anno70: Popolazione = 19247\n",
      "Anno71: Popolazione = 21941\n",
      "Anno72: Popolazione = 25013\n",
      "Anno73: Popolazione = 28515\n",
      "Anno74: Popolazione = 32507\n",
      "Anno75: Popolazione = 37059\n",
      "Anno76: Popolazione = 42247\n",
      "Anno77: Popolazione = 48161\n",
      "Anno78: Popolazione = 54904\n",
      "Anno79: Popolazione = 62591\n",
      "Anno80: Popolazione = 71353\n",
      "Anno81: Popolazione = 81343\n",
      "Anno82: Popolazione = 92731\n",
      "Anno83: Popolazione = 105714\n",
      "Anno84: Popolazione = 120514\n",
      "Anno85: Popolazione = 137385\n",
      "Anno86: Popolazione = 156619\n",
      "Anno87: Popolazione = 178546\n",
      "Anno88: Popolazione = 203543\n",
      "Anno89: Popolazione = 232039\n",
      "Anno90: Popolazione = 264524\n",
      "Anno91: Popolazione = 301558\n",
      "Anno92: Popolazione = 343776\n",
      "Anno93: Popolazione = 391905\n",
      "Anno94: Popolazione = 446772\n",
      "Anno95: Popolazione = 509320\n",
      "Anno96: Popolazione = 580624\n",
      "Anno97: Popolazione = 661912\n",
      "Anno98: Popolazione = 754580\n",
      "Anno99: Popolazione = 860221\n",
      "Anno100: Popolazione = 980652\n",
      "Simulazione completata.\n"
     ]
    }
   ],
   "source": [
    "popolazione = int(input(\"inserisce una popolazione iniziale: \"))\n",
    "anni = int(input(\"inserisci numero di anni di simulazione \"))\n",
    "\n",
    "tasso_nascite = float(input(\"inserisci tasso natalità \"))\n",
    "tasso_morte = float(input(\"inserisci tasso di mortalità \"))\n",
    "\n",
    "\n",
    "for anno in range(anni):\n",
    "    nascite = (popolazione * tasso_nascite / 100)\n",
    "    morti = (popolazione * tasso_morte / 100)\n",
    "    popolazione += (nascite - morti)\n",
    "    \n",
    "    print(f\"Anno{anno+1}: Popolazione = {int(popolazione)}\")\n",
    "\n",
    "print(\"Simulazione completata.\")"
   ]
  },
  {
   "cell_type": "markdown",
   "id": "fb4cffd5",
   "metadata": {},
   "source": [
    "#"
   ]
  },
  {
   "cell_type": "markdown",
   "id": "47a3aef6",
   "metadata": {},
   "source": [
    "## Ez\n"
   ]
  },
  {
   "cell_type": "code",
   "execution_count": 17,
   "id": "fe8bdc3c",
   "metadata": {},
   "outputs": [
    {
     "name": "stdout",
     "output_type": "stream",
     "text": [
      "oggi è il giorno: 18 10 2023 ore:  12 29 48\n"
     ]
    }
   ],
   "source": [
    "import datetime \n",
    "\n",
    "today = datetime.datetime.today()\n",
    "print(f\"oggi è il giorno: {today:%d %m %Y} ore: {today: %H %M %S}\")"
   ]
  },
  {
   "cell_type": "markdown",
   "id": "cd993732",
   "metadata": {},
   "source": [
    "### Fibonacci"
   ]
  },
  {
   "cell_type": "code",
   "execution_count": 2,
   "id": "bbcccb08",
   "metadata": {},
   "outputs": [
    {
     "name": "stdout",
     "output_type": "stream",
     "text": [
      "inserisci un numero da calcolare 5\n",
      "il 5 numero della serie di fibonacci è  55\n"
     ]
    }
   ],
   "source": [
    "n = int(input(\"inserisci un numero da calcolare \"))\n",
    "\n",
    "a=0\n",
    "b=1\n",
    "c=a+b\n",
    "\n",
    "if n <= 0:\n",
    "    print(\"NO\")\n",
    "    \n",
    "elif n == 1:\n",
    "    risultato = a\n",
    "    \n",
    "else:\n",
    "    for interazione in range(n+3):\n",
    "        a=b\n",
    "        b=c\n",
    "        c=a+b\n",
    "        risultato = c\n",
    "        \n",
    "\n",
    "print(f\"il {n} numero della serie di fibonacci è \", risultato)\n",
    "        \n"
   ]
  },
  {
   "cell_type": "code",
   "execution_count": 14,
   "id": "e9017afa",
   "metadata": {},
   "outputs": [],
   "source": [
    "from itertools import permutations\n",
    "k=0\n",
    "\n",
    "def trova_anagrammi(parola):\n",
    "    anagrammi=[\"\".join<(p) for p in permutation(parola)]\n",
    "    return anagrammi"
   ]
  },
  {
   "cell_type": "markdown",
   "id": "9f487f93",
   "metadata": {},
   "source": [
    " "
   ]
  },
  {
   "cell_type": "code",
   "execution_count": 13,
   "id": "57d27320",
   "metadata": {},
   "outputs": [
    {
     "data": {
      "image/png": "[encoded data removed]",
      "text/plain": [
       "<Figure size 640x480 with 1 Axes>"
      ]
     },
     "metadata": {},
     "output_type": "display_data"
    }
   ],
   "source": [
    "import matplotlib.pyplot as plt\n",
    "animali = ['Elefanti', 'Leoni', 'Tigri', 'Scimmie', 'Zebre']\n",
    "numero_animali = [4, 3, 2, 8, 15]\n",
    "\n",
    "plt.bar(animali,numero_animali, color='skyblue')\n",
    "plt.title('numero di animali di uno zoo')\n",
    "plt.xlabel('animali')\n",
    "plt.ylabel('numero')\n",
    "plt.show()"
   ]
  },
  {
   "cell_type": "code",
   "execution_count": 2,
   "id": "c2e84f1e",
   "metadata": {},
   "outputs": [
    {
     "data": {
      "image/png": "[encoded data removed]",
      "text/plain": [
       "<Figure size 640x480 with 1 Axes>"
      ]
     },
     "metadata": {},
     "output_type": "display_data"
    }
   ],
   "source": [
    "import matplotlib.pyplot as plt\n",
    "animali=['Elefanti','Leoni','Tigri','Scimmie','Zebre','Leocorni']\n",
    "numero_animali=[4, 3, 2, 8, 15, 0]\n",
    "plt.bar(animali, numero_animali, color=\"Lightblue\")\n",
    "plt.show()"
   ]
  },
  {
   "cell_type": "code",
   "execution_count": 8,
   "id": "aa351f46",
   "metadata": {
    "scrolled": false
   },
   "outputs": [
    {
     "data": {
      "image/png": "[encoded data removed]",
      "text/plain": [
       "<Figure size 640x480 with 1 Axes>"
      ]
     },
     "metadata": {},
     "output_type": "display_data"
    }
   ],
   "source": [
    "nomi_studenti=['obeso1' ,'obeso2' ,'obeso3' ,'obeso4']\n",
    "punteggi = [15 ,69 ,96 ,18]\n",
    "\n",
    "plt.barh(nomi_studenti,punteggi, color='green')\n",
    "plt.title('Punteggi studenti')\n",
    "plt.xlabel('Punteggi')\n",
    "plt.ylabel('Studenti')\n",
    "plt.show()"
   ]
  },
  {
   "cell_type": "code",
   "execution_count": 3,
   "id": "2ab479db",
   "metadata": {},
   "outputs": [
    {
     "data": {
      "image/png": "[encoded data removed]",
      "text/plain": [
       "<Figure size 640x480 with 1 Axes>"
      ]
     },
     "metadata": {},
     "output_type": "display_data"
    }
   ],
   "source": [
    "import matplotlib.pyplot as plt\n",
    "import pandas as pd\n",
    "\n",
    "nomi_studenti = ['Alice', 'Bob', 'Charlie', 'David', 'Eve']\n",
    "punteggi = [85, 92, 78, 88, 95]\n",
    "\n",
    "# Crea un DataFrame con nomi e punteggi\n",
    "data = {'Nome dello Studente': nomi_studenti, 'Punteggio': punteggi}\n",
    "df = pd.DataFrame(data)\n",
    "\n",
    "df.sort_values(by='Punteggio', inplace=True)\n",
    "df\n",
    "\n",
    "plt.barh(nomi_studenti,punteggi, color='green')\n",
    "plt.title('Punteggi studenti')\n",
    "plt.xlabel('Punteggi')\n",
    "plt.ylabel('Studenti')\n",
    "plt.show()"
   ]
  },
  {
   "cell_type": "code",
   "execution_count": 8,
   "id": "89c1c668",
   "metadata": {},
   "outputs": [
    {
     "data": {
      "image/png": "[encoded data removed]",
      "text/plain": [
       "<Figure size 640x480 with 1 Axes>"
      ]
     },
     "metadata": {},
     "output_type": "display_data"
    }
   ],
   "source": [
    "import matplotlib.pyplot as plt\n",
    "import numpy as np\n",
    "\n",
    "altezza_maschi = np.random.normal(175, 10, 50)  # Altezza dei maschi\n",
    "peso_maschi = np.random.normal(70, 5, 50)  # Peso dei maschi\n",
    "\n",
    "altezza_femmine = np.random.normal(162, 8, 50)  # Altezza delle femmine\n",
    "peso_femmine = np.random.normal(58, 4, 50)  # Peso delle femmine\n",
    "plt.scatter(altezza_maschi,peso_maschi, color='blue', label='Maschi', marker='o')\n",
    "plt.scatter(altezza_femmine,peso_femmine, color='pink', label='Femmine', marker='s')\n",
    "plt.title('Grafico a Dispersione Altezza vs Peso')\n",
    "plt.xlabel('Altezza (cm)')\n",
    "plt.ylabel('Peso (kg)')\n",
    "plt.legend(loc='upper right')\n",
    "plt.grid(True)\n",
    "plt.show()"
   ]
  },
  {
   "cell_type": "code",
   "execution_count": null,
   "id": "d1c59367",
   "metadata": {},
   "outputs": [],
   "source": []
  }
 ],
 "metadata": {
  "kernelspec": {
   "display_name": "Python 3 (ipykernel)",
   "language": "python",
   "name": "python3"
  },
  "language_info": {
   "codemirror_mode": {
    "name": "ipython",
    "version": 3
   },
   "file_extension": ".py",
   "mimetype": "text/x-python",
   "name": "python",
   "nbconvert_exporter": "python",
   "pygments_lexer": "ipython3",
   "version": "3.11.4"
  }
 },
 "nbformat": 4,
 "nbformat_minor": 5
}
